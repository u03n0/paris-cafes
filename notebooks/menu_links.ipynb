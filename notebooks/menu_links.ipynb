{
 "cells": [
  {
   "cell_type": "code",
   "execution_count": 1,
   "metadata": {},
   "outputs": [],
   "source": [
    "import pandas as pd"
   ]
  },
  {
   "cell_type": "code",
   "execution_count": 2,
   "metadata": {},
   "outputs": [
    {
     "name": "stdout",
     "output_type": "stream",
     "text": [
      "(328, 4)\n"
     ]
    },
    {
     "data": {
      "text/html": [
       "<div>\n",
       "<style scoped>\n",
       "    .dataframe tbody tr th:only-of-type {\n",
       "        vertical-align: middle;\n",
       "    }\n",
       "\n",
       "    .dataframe tbody tr th {\n",
       "        vertical-align: top;\n",
       "    }\n",
       "\n",
       "    .dataframe thead th {\n",
       "        text-align: right;\n",
       "    }\n",
       "</style>\n",
       "<table border=\"1\" class=\"dataframe\">\n",
       "  <thead>\n",
       "    <tr style=\"text-align: right;\">\n",
       "      <th></th>\n",
       "      <th>website</th>\n",
       "      <th>htmls</th>\n",
       "      <th>pdfs</th>\n",
       "      <th>images</th>\n",
       "    </tr>\n",
       "  </thead>\n",
       "  <tbody>\n",
       "    <tr>\n",
       "      <th>0</th>\n",
       "      <td>http://www.restaurantchouchouparis.fr/</td>\n",
       "      <td>tel:01 45 08 02 03,mailto:restauchouchou@gmail...</td>\n",
       "      <td>NaN</td>\n",
       "      <td>NaN</td>\n",
       "    </tr>\n",
       "    <tr>\n",
       "      <th>1</th>\n",
       "      <td>https://www.au-vieux-comptoir.com/</td>\n",
       "      <td>http://app.icioncuisine.com/venue/20115?action...</td>\n",
       "      <td>NaN</td>\n",
       "      <td>NaN</td>\n",
       "    </tr>\n",
       "    <tr>\n",
       "      <th>2</th>\n",
       "      <td>https://www.chateauvoltaire.com/restaurant</td>\n",
       "      <td>/restaurant,/en/restaurant,/ru/restaurant,/zh/...</td>\n",
       "      <td>/cache/files/carte-du-petit-dejeuner-9302.pdf,...</td>\n",
       "      <td>NaN</td>\n",
       "    </tr>\n",
       "    <tr>\n",
       "      <th>3</th>\n",
       "      <td>https://lebaltard.com/</td>\n",
       "      <td>#content,https://lebaltard.com/,#apropos,#cart...</td>\n",
       "      <td>NaN</td>\n",
       "      <td>https://lebaltard.com/wp-content/uploads/2023/...</td>\n",
       "    </tr>\n",
       "    <tr>\n",
       "      <th>4</th>\n",
       "      <td>https://www.cafeplume-paris.fr/</td>\n",
       "      <td>/,/menus-carte/,/photos/,/avis/,/nos-restauran...</td>\n",
       "      <td>NaN</td>\n",
       "      <td>NaN</td>\n",
       "    </tr>\n",
       "  </tbody>\n",
       "</table>\n",
       "</div>"
      ],
      "text/plain": [
       "                                      website  \\\n",
       "0      http://www.restaurantchouchouparis.fr/   \n",
       "1          https://www.au-vieux-comptoir.com/   \n",
       "2  https://www.chateauvoltaire.com/restaurant   \n",
       "3                      https://lebaltard.com/   \n",
       "4             https://www.cafeplume-paris.fr/   \n",
       "\n",
       "                                               htmls  \\\n",
       "0  tel:01 45 08 02 03,mailto:restauchouchou@gmail...   \n",
       "1  http://app.icioncuisine.com/venue/20115?action...   \n",
       "2  /restaurant,/en/restaurant,/ru/restaurant,/zh/...   \n",
       "3  #content,https://lebaltard.com/,#apropos,#cart...   \n",
       "4  /,/menus-carte/,/photos/,/avis/,/nos-restauran...   \n",
       "\n",
       "                                                pdfs  \\\n",
       "0                                                NaN   \n",
       "1                                                NaN   \n",
       "2  /cache/files/carte-du-petit-dejeuner-9302.pdf,...   \n",
       "3                                                NaN   \n",
       "4                                                NaN   \n",
       "\n",
       "                                              images  \n",
       "0                                                NaN  \n",
       "1                                                NaN  \n",
       "2                                                NaN  \n",
       "3  https://lebaltard.com/wp-content/uploads/2023/...  \n",
       "4                                                NaN  "
      ]
     },
     "execution_count": 2,
     "metadata": {},
     "output_type": "execute_result"
    }
   ],
   "source": [
    "df = pd.read_csv(\"../data/raw/crawled_links.csv\")\n",
    "print(df.shape)\n",
    "df.head(5)"
   ]
  },
  {
   "cell_type": "code",
   "execution_count": 3,
   "metadata": {},
   "outputs": [
    {
     "data": {
      "text/html": [
       "<div>\n",
       "<style scoped>\n",
       "    .dataframe tbody tr th:only-of-type {\n",
       "        vertical-align: middle;\n",
       "    }\n",
       "\n",
       "    .dataframe tbody tr th {\n",
       "        vertical-align: top;\n",
       "    }\n",
       "\n",
       "    .dataframe thead th {\n",
       "        text-align: right;\n",
       "    }\n",
       "</style>\n",
       "<table border=\"1\" class=\"dataframe\">\n",
       "  <thead>\n",
       "    <tr style=\"text-align: right;\">\n",
       "      <th></th>\n",
       "      <th>website</th>\n",
       "      <th>htmls</th>\n",
       "      <th>pdfs</th>\n",
       "      <th>images</th>\n",
       "    </tr>\n",
       "  </thead>\n",
       "  <tbody>\n",
       "    <tr>\n",
       "      <th>0</th>\n",
       "      <td>http://www.restaurantchouchouparis.fr/</td>\n",
       "      <td>tel:01 45 08 02 03,mailto:restauchouchou@gmail...</td>\n",
       "      <td>NaN</td>\n",
       "      <td>NaN</td>\n",
       "    </tr>\n",
       "  </tbody>\n",
       "</table>\n",
       "</div>"
      ],
      "text/plain": [
       "                                  website  \\\n",
       "0  http://www.restaurantchouchouparis.fr/   \n",
       "\n",
       "                                               htmls pdfs images  \n",
       "0  tel:01 45 08 02 03,mailto:restauchouchou@gmail...  NaN    NaN  "
      ]
     },
     "execution_count": 3,
     "metadata": {},
     "output_type": "execute_result"
    }
   ],
   "source": [
    "t = df[df['website'] == 'http://www.restaurantchouchouparis.fr/']\n",
    "t"
   ]
  },
  {
   "cell_type": "code",
   "execution_count": 4,
   "metadata": {},
   "outputs": [],
   "source": [
    "def get_matches(values):\n",
    "    if isinstance(values, list):\n",
    "        potential = []\n",
    "        for value in values:\n",
    "            if '@' not in value:\n",
    "                potential.append(value)\n",
    "        return potential\n",
    "    elif isinstance(values, str):\n",
    "        l = values.split(\",\")\n",
    "        return get_matches(l)\n",
    "    else:\n",
    "        return []"
   ]
  },
  {
   "cell_type": "code",
   "execution_count": 5,
   "metadata": {},
   "outputs": [],
   "source": [
    "df['htmls'] = df['htmls'].apply(get_matches)"
   ]
  },
  {
   "cell_type": "code",
   "execution_count": 14,
   "metadata": {},
   "outputs": [
    {
     "name": "stdout",
     "output_type": "stream",
     "text": [
      "['#content', 'https://lebaltard.com/', '#apropos', '#carte', '#photos', '#avis', '#acces', 'https://lor.paris/r/le-baltard-paris', 'https://lor.paris/m/le-baltard-paris/', '#']\n"
     ]
    }
   ],
   "source": [
    "bal = df[df['website']==\"https://lebaltard.com/\"]\n",
    "for h in bal['htmls']:\n",
    "    print(h)"
   ]
  }
 ],
 "metadata": {
  "kernelspec": {
   "display_name": "venv",
   "language": "python",
   "name": "python3"
  },
  "language_info": {
   "codemirror_mode": {
    "name": "ipython",
    "version": 3
   },
   "file_extension": ".py",
   "mimetype": "text/x-python",
   "name": "python",
   "nbconvert_exporter": "python",
   "pygments_lexer": "ipython3",
   "version": "3.11.2"
  }
 },
 "nbformat": 4,
 "nbformat_minor": 2
}

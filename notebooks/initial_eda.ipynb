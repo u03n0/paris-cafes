{
 "cells": [
  {
   "cell_type": "code",
   "execution_count": 2,
   "metadata": {},
   "outputs": [],
   "source": [
    "import pandas as pd \n",
    "import matplotlib.pyplot as plt"
   ]
  },
  {
   "cell_type": "code",
   "execution_count": 57,
   "metadata": {},
   "outputs": [
    {
     "name": "stdout",
     "output_type": "stream",
     "text": [
      "(420, 8)\n"
     ]
    },
    {
     "data": {
      "text/html": [
       "<div>\n",
       "<style scoped>\n",
       "    .dataframe tbody tr th:only-of-type {\n",
       "        vertical-align: middle;\n",
       "    }\n",
       "\n",
       "    .dataframe tbody tr th {\n",
       "        vertical-align: top;\n",
       "    }\n",
       "\n",
       "    .dataframe thead th {\n",
       "        text-align: right;\n",
       "    }\n",
       "</style>\n",
       "<table border=\"1\" class=\"dataframe\">\n",
       "  <thead>\n",
       "    <tr style=\"text-align: right;\">\n",
       "      <th></th>\n",
       "      <th>name</th>\n",
       "      <th>address</th>\n",
       "      <th>place_id</th>\n",
       "      <th>rating</th>\n",
       "      <th>reviews</th>\n",
       "      <th>price_level</th>\n",
       "      <th>website</th>\n",
       "      <th>arrondissement</th>\n",
       "    </tr>\n",
       "  </thead>\n",
       "  <tbody>\n",
       "    <tr>\n",
       "      <th>0</th>\n",
       "      <td>Le Petit Bouillon Pharamond</td>\n",
       "      <td>24 Rue de la Grande Truanderie, 75001 Paris, F...</td>\n",
       "      <td>ChIJRcSln6lv5kcRlLWcSVj4QGE</td>\n",
       "      <td>4.2</td>\n",
       "      <td>5331</td>\n",
       "      <td>2.0</td>\n",
       "      <td>http://www.petitbouillonpharamond.com/</td>\n",
       "      <td>1</td>\n",
       "    </tr>\n",
       "    <tr>\n",
       "      <th>1</th>\n",
       "      <td>Brasserie de la Bourse</td>\n",
       "      <td>27 Rue Jean-Jacques Rousseau, 75001 Paris, France</td>\n",
       "      <td>ChIJLTXauyNu5kcRfE2jvCNL1Is</td>\n",
       "      <td>4.4</td>\n",
       "      <td>676</td>\n",
       "      <td>2.0</td>\n",
       "      <td>http://www.brasseriedelabourseparis.com/</td>\n",
       "      <td>1</td>\n",
       "    </tr>\n",
       "    <tr>\n",
       "      <th>2</th>\n",
       "      <td>Brasserie Flottes</td>\n",
       "      <td>2 Rue Cambon, 75001 Paris, France</td>\n",
       "      <td>ChIJDeI4Jx9v5kcRItEpEe0E6jo</td>\n",
       "      <td>4.5</td>\n",
       "      <td>1454</td>\n",
       "      <td>2.0</td>\n",
       "      <td>http://brasserieflottes.fr/fr</td>\n",
       "      <td>1</td>\n",
       "    </tr>\n",
       "    <tr>\n",
       "      <th>3</th>\n",
       "      <td>Brasserie du Louvre - Bocuse</td>\n",
       "      <td>Place André Malraux, Paris, Île-de-France, Fra...</td>\n",
       "      <td>ChIJUZFuuSVu5kcRfY5Fd2TUlRQ</td>\n",
       "      <td>4.1</td>\n",
       "      <td>656</td>\n",
       "      <td>3.0</td>\n",
       "      <td>https://www.hyattrestaurants.com/en/dining/fra...</td>\n",
       "      <td>1</td>\n",
       "    </tr>\n",
       "    <tr>\n",
       "      <th>4</th>\n",
       "      <td>Brasserie l'Émil</td>\n",
       "      <td>55 Rue Saint-Roch, 75001 Paris, France</td>\n",
       "      <td>ChIJ_xOkpDpv5kcRk_YSe4UrbkI</td>\n",
       "      <td>4.3</td>\n",
       "      <td>142</td>\n",
       "      <td>NaN</td>\n",
       "      <td>https://www.chateauvoltaire.com/restaurant</td>\n",
       "      <td>1</td>\n",
       "    </tr>\n",
       "  </tbody>\n",
       "</table>\n",
       "</div>"
      ],
      "text/plain": [
       "                           name  \\\n",
       "0   Le Petit Bouillon Pharamond   \n",
       "1        Brasserie de la Bourse   \n",
       "2             Brasserie Flottes   \n",
       "3  Brasserie du Louvre - Bocuse   \n",
       "4              Brasserie l'Émil   \n",
       "\n",
       "                                             address  \\\n",
       "0  24 Rue de la Grande Truanderie, 75001 Paris, F...   \n",
       "1  27 Rue Jean-Jacques Rousseau, 75001 Paris, France   \n",
       "2                  2 Rue Cambon, 75001 Paris, France   \n",
       "3  Place André Malraux, Paris, Île-de-France, Fra...   \n",
       "4             55 Rue Saint-Roch, 75001 Paris, France   \n",
       "\n",
       "                      place_id  rating  reviews  price_level  \\\n",
       "0  ChIJRcSln6lv5kcRlLWcSVj4QGE     4.2     5331          2.0   \n",
       "1  ChIJLTXauyNu5kcRfE2jvCNL1Is     4.4      676          2.0   \n",
       "2  ChIJDeI4Jx9v5kcRItEpEe0E6jo     4.5     1454          2.0   \n",
       "3  ChIJUZFuuSVu5kcRfY5Fd2TUlRQ     4.1      656          3.0   \n",
       "4  ChIJ_xOkpDpv5kcRk_YSe4UrbkI     4.3      142          NaN   \n",
       "\n",
       "                                             website  arrondissement  \n",
       "0             http://www.petitbouillonpharamond.com/               1  \n",
       "1           http://www.brasseriedelabourseparis.com/               1  \n",
       "2                      http://brasserieflottes.fr/fr               1  \n",
       "3  https://www.hyattrestaurants.com/en/dining/fra...               1  \n",
       "4         https://www.chateauvoltaire.com/restaurant               1  "
      ]
     },
     "execution_count": 57,
     "metadata": {},
     "output_type": "execute_result"
    }
   ],
   "source": [
    "df = pd.read_csv(\"../data/raw/brasseries.csv\")\n",
    "print(df.shape)\n",
    "df.head(5)"
   ]
  },
  {
   "cell_type": "code",
   "execution_count": 4,
   "metadata": {},
   "outputs": [
    {
     "data": {
      "text/html": [
       "<div>\n",
       "<style scoped>\n",
       "    .dataframe tbody tr th:only-of-type {\n",
       "        vertical-align: middle;\n",
       "    }\n",
       "\n",
       "    .dataframe tbody tr th {\n",
       "        vertical-align: top;\n",
       "    }\n",
       "\n",
       "    .dataframe thead th {\n",
       "        text-align: right;\n",
       "    }\n",
       "</style>\n",
       "<table border=\"1\" class=\"dataframe\">\n",
       "  <thead>\n",
       "    <tr style=\"text-align: right;\">\n",
       "      <th></th>\n",
       "      <th>name</th>\n",
       "      <th>address</th>\n",
       "      <th>place_id</th>\n",
       "      <th>rating</th>\n",
       "      <th>reviews</th>\n",
       "      <th>price_level</th>\n",
       "      <th>website</th>\n",
       "      <th>arrondissement</th>\n",
       "    </tr>\n",
       "  </thead>\n",
       "  <tbody>\n",
       "    <tr>\n",
       "      <th>0</th>\n",
       "      <td>le petit bouillon pharamond</td>\n",
       "      <td>24 rue de la grande truanderie, 75001 paris, f...</td>\n",
       "      <td>ChIJRcSln6lv5kcRlLWcSVj4QGE</td>\n",
       "      <td>4.2</td>\n",
       "      <td>5331</td>\n",
       "      <td>2.0</td>\n",
       "      <td>http://www.petitbouillonpharamond.com/</td>\n",
       "      <td>1</td>\n",
       "    </tr>\n",
       "  </tbody>\n",
       "</table>\n",
       "</div>"
      ],
      "text/plain": [
       "                          name  \\\n",
       "0  le petit bouillon pharamond   \n",
       "\n",
       "                                             address  \\\n",
       "0  24 rue de la grande truanderie, 75001 paris, f...   \n",
       "\n",
       "                      place_id  rating  reviews  price_level  \\\n",
       "0  ChIJRcSln6lv5kcRlLWcSVj4QGE     4.2     5331          2.0   \n",
       "\n",
       "                                  website  arrondissement  \n",
       "0  http://www.petitbouillonpharamond.com/               1  "
      ]
     },
     "execution_count": 4,
     "metadata": {},
     "output_type": "execute_result"
    }
   ],
   "source": [
    "columns_to_lower = [\"name\", \"address\"]\n",
    "for col in columns_to_lower:\n",
    "    df[col] = df[col].apply(lambda x: x.lower() if isinstance(x, str) else x)\n",
    "df.head(1)"
   ]
  },
  {
   "cell_type": "markdown",
   "metadata": {},
   "source": [
    "## How many locations have the name 'Bistrot' in them? 'Cafe'? 'Brasserie'?"
   ]
  },
  {
   "cell_type": "code",
   "execution_count": 5,
   "metadata": {},
   "outputs": [
    {
     "name": "stdout",
     "output_type": "stream",
     "text": [
      "Occurrences of 'bistrot': 27\n",
      "Occurrences of 'cafe': 4\n",
      "Occurrences of 'brasserie': 71\n",
      "Occurrences of 'bouillon': 5\n",
      "Occurrences of 'restaurant': 28\n"
     ]
    }
   ],
   "source": [
    "count_bistrot = df['name'].str.contains(\"bistrot\").value_counts().values[1]\n",
    "print(\"Occurrences of 'bistrot':\", count_bistrot)\n",
    "count_cafe = df['name'].str.contains(\"cafe\").value_counts().values[1]\n",
    "print(\"Occurrences of 'cafe':\", count_cafe)\n",
    "count_brasserie = df['name'].str.contains(\"brasserie\").value_counts().values[1]\n",
    "print(\"Occurrences of 'brasserie':\", count_brasserie)\n",
    "count_bouillon = df['name'].str.contains(\"bouillon\").value_counts().values[1]\n",
    "print(\"Occurrences of 'bouillon':\", count_bouillon)\n",
    "count_restaurant = df['name'].str.contains(\"restaurant\").value_counts().values[1]\n",
    "print(\"Occurrences of 'restaurant':\", count_restaurant)"
   ]
  },
  {
   "cell_type": "markdown",
   "metadata": {},
   "source": [
    "### Which street has the most locations?"
   ]
  },
  {
   "cell_type": "code",
   "execution_count": 6,
   "metadata": {},
   "outputs": [],
   "source": [
    "def get_streetname(address):\n",
    "    street = address.split(\",\")[0]\n",
    "    street_name =  \" \".join(street.split(\" \")[1:])\n",
    "    return street_name.strip()"
   ]
  },
  {
   "cell_type": "code",
   "execution_count": 7,
   "metadata": {},
   "outputs": [],
   "source": [
    "df['street_name'] = df['address'].apply(get_streetname)"
   ]
  },
  {
   "cell_type": "code",
   "execution_count": 8,
   "metadata": {},
   "outputs": [
    {
     "data": {
      "text/html": [
       "<div>\n",
       "<style scoped>\n",
       "    .dataframe tbody tr th:only-of-type {\n",
       "        vertical-align: middle;\n",
       "    }\n",
       "\n",
       "    .dataframe tbody tr th {\n",
       "        vertical-align: top;\n",
       "    }\n",
       "\n",
       "    .dataframe thead th {\n",
       "        text-align: right;\n",
       "    }\n",
       "</style>\n",
       "<table border=\"1\" class=\"dataframe\">\n",
       "  <thead>\n",
       "    <tr style=\"text-align: right;\">\n",
       "      <th></th>\n",
       "      <th>name</th>\n",
       "      <th>address</th>\n",
       "      <th>place_id</th>\n",
       "      <th>rating</th>\n",
       "      <th>reviews</th>\n",
       "      <th>price_level</th>\n",
       "      <th>website</th>\n",
       "      <th>arrondissement</th>\n",
       "      <th>street_name</th>\n",
       "    </tr>\n",
       "  </thead>\n",
       "  <tbody>\n",
       "    <tr>\n",
       "      <th>0</th>\n",
       "      <td>le petit bouillon pharamond</td>\n",
       "      <td>24 rue de la grande truanderie, 75001 paris, f...</td>\n",
       "      <td>ChIJRcSln6lv5kcRlLWcSVj4QGE</td>\n",
       "      <td>4.2</td>\n",
       "      <td>5331</td>\n",
       "      <td>2.0</td>\n",
       "      <td>http://www.petitbouillonpharamond.com/</td>\n",
       "      <td>1</td>\n",
       "      <td>rue de la grande truanderie</td>\n",
       "    </tr>\n",
       "  </tbody>\n",
       "</table>\n",
       "</div>"
      ],
      "text/plain": [
       "                          name  \\\n",
       "0  le petit bouillon pharamond   \n",
       "\n",
       "                                             address  \\\n",
       "0  24 rue de la grande truanderie, 75001 paris, f...   \n",
       "\n",
       "                      place_id  rating  reviews  price_level  \\\n",
       "0  ChIJRcSln6lv5kcRlLWcSVj4QGE     4.2     5331          2.0   \n",
       "\n",
       "                                  website  arrondissement  \\\n",
       "0  http://www.petitbouillonpharamond.com/               1   \n",
       "\n",
       "                   street_name  \n",
       "0  rue de la grande truanderie  "
      ]
     },
     "execution_count": 8,
     "metadata": {},
     "output_type": "execute_result"
    }
   ],
   "source": [
    "df.head(1)"
   ]
  },
  {
   "cell_type": "code",
   "execution_count": 9,
   "metadata": {},
   "outputs": [
    {
     "data": {
      "text/plain": [
       "street_name\n",
       "av. daumesnil          8\n",
       "bd saint-germain       7\n",
       "rue saint-dominique    5\n",
       "av. jean jaurès        5\n",
       "rue didot              4\n",
       "                      ..\n",
       "rue de lisbonne        1\n",
       "rue marbeuf            1\n",
       "intérieure             1\n",
       "pl. des ternes         1\n",
       "rue lamartine          1\n",
       "Name: count, Length: 309, dtype: int64"
      ]
     },
     "execution_count": 9,
     "metadata": {},
     "output_type": "execute_result"
    }
   ],
   "source": [
    "counts = df['street_name'].value_counts()\n",
    "counts"
   ]
  },
  {
   "cell_type": "markdown",
   "metadata": {},
   "source": [
    "## Reviews | rating ratios"
   ]
  },
  {
   "cell_type": "code",
   "execution_count": 10,
   "metadata": {},
   "outputs": [
    {
     "data": {
      "text/plain": [
       "Text(0.5, 1.0, 'Distribution of rating')"
      ]
     },
     "execution_count": 10,
     "metadata": {},
     "output_type": "execute_result"
    },
    {
     "data": {
      "image/png": "[encoded data removed]",
      "text/plain": [
       "<Figure size 640x480 with 1 Axes>"
      ]
     },
     "metadata": {},
     "output_type": "display_data"
    }
   ],
   "source": [
    "df['rating'].hist()\n",
    "plt.xlabel('rating')\n",
    "plt.ylabel('Frequency')\n",
    "plt.title('Distribution of rating')"
   ]
  },
  {
   "cell_type": "code",
   "execution_count": 11,
   "metadata": {},
   "outputs": [
    {
     "data": {
      "text/plain": [
       "<Axes: >"
      ]
     },
     "execution_count": 11,
     "metadata": {},
     "output_type": "execute_result"
    },
    {
     "data": {
      "image/png": "[encoded data removed]",
      "text/plain": [
       "<Figure size 640x480 with 1 Axes>"
      ]
     },
     "metadata": {},
     "output_type": "display_data"
    }
   ],
   "source": [
    "df['price_level'].hist()"
   ]
  },
  {
   "cell_type": "code",
   "execution_count": 12,
   "metadata": {},
   "outputs": [
    {
     "data": {
      "text/plain": [
       "arrondissement\n",
       "1     40\n",
       "2     21\n",
       "10    21\n",
       "4     20\n",
       "13    20\n",
       "5     20\n",
       "7     20\n",
       "6     20\n",
       "8     20\n",
       "9     20\n",
       "11    20\n",
       "12    20\n",
       "17    20\n",
       "14    20\n",
       "15    20\n",
       "16    20\n",
       "20    20\n",
       "19    20\n",
       "3     19\n",
       "18    19\n",
       "Name: count, dtype: int64"
      ]
     },
     "execution_count": 12,
     "metadata": {},
     "output_type": "execute_result"
    }
   ],
   "source": [
    "df['arrondissement'].value_counts()"
   ]
  },
  {
   "cell_type": "code",
   "execution_count": 13,
   "metadata": {},
   "outputs": [
    {
     "data": {
      "text/plain": [
       "website\n",
       "False    365\n",
       "True      55\n",
       "Name: count, dtype: int64"
      ]
     },
     "execution_count": 13,
     "metadata": {},
     "output_type": "execute_result"
    }
   ],
   "source": [
    "df['website'].isna().value_counts()"
   ]
  },
  {
   "cell_type": "code",
   "execution_count": 24,
   "metadata": {},
   "outputs": [
    {
     "data": {
      "text/plain": [
       "(55, 10)"
      ]
     },
     "execution_count": 24,
     "metadata": {},
     "output_type": "execute_result"
    }
   ],
   "source": [
    "to_vist = df[df['website'].isna()].reset_index()\n",
    "to_vist.shape"
   ]
  },
  {
   "cell_type": "code",
   "execution_count": 15,
   "metadata": {},
   "outputs": [
    {
     "data": {
      "text/plain": [
       "['http://www.petitbouillonpharamond.com/',\n",
       " 'http://www.brasseriedelabourseparis.com/',\n",
       " 'http://brasserieflottes.fr/fr',\n",
       " 'https://www.hyattrestaurants.com/en/dining/france/paris/french-restaurant-in-avenue-de-l-opera-brasserie-du-louvre',\n",
       " 'https://www.chateauvoltaire.com/restaurant',\n",
       " 'https://www.privateaser.com/lieu/49884-choubichou',\n",
       " 'https://www.pieddecochon.com//?utm_source=Google&utm_medium=GMB&utm_campaign=PDC&y_source=1_MTE2NjUxNzQtNzE1LWxvY2F0aW9uLndlYnNpdGU%3D',\n",
       " 'https://foodcourtrivoli.fr/fr/restaurant-french-beer-brasserie/',\n",
       " 'http://www.cafeplume-paris.fr/',\n",
       " 'http://www.cafe-josephineparis.fr/',\n",
       " 'https://www.facebook.com/Le-Reynou-1560153544244921/',\n",
       " 'http://loup-paris.com/',\n",
       " 'http://www.paris-bistro.com/choisir/paris1/bistrot-des-victoires',\n",
       " 'https://lebaltard.com/',\n",
       " 'http://www.restaurantchouchouparis.fr/',\n",
       " 'https://www.au-vieux-comptoir.com/',\n",
       " 'https://bistrot-valois-paris.com/fr',\n",
       " 'https://menuonline.fr/cafedelaregencebis/coordonnees',\n",
       " 'https://www.auchienquifume.com/',\n",
       " 'http://www.lesartizans.fr/',\n",
       " 'http://www.larotondesthonore.com/',\n",
       " 'http://www.lezimmer.com/',\n",
       " 'https://nelsons.fr/',\n",
       " 'http://www.lenemours.paris/',\n",
       " 'http://www.lefumoir.com/',\n",
       " 'https://lepassagesainthonore.fr/fr',\n",
       " 'http://lafresqueparis.com/',\n",
       " 'https://carpediem-cafe-paris.fr/',\n",
       " 'https://lerelaisdulouvre.com/',\n",
       " 'https://www.robeetlepalais.fr/',\n",
       " 'https://cafe-saint-ho.fr/',\n",
       " 'http://cafelimprimerie.fr/',\n",
       " 'http://www.aubistroparis.fr/',\n",
       " 'https://www.brasserie-maisonrouge.fr/',\n",
       " 'http://www.williswinebar.com/',\n",
       " 'https://www.auterminusduchatelet.com/',\n",
       " 'https://bistrot-du-jardin.fr/',\n",
       " 'https://nouvellegardegroupe.com/',\n",
       " 'https://www.vaudevilleparis.com//?utm_source=Google&utm_medium=GMB&utm_campaign=VAU&y_source=1_MTE2NjUxODktNzE1LWxvY2F0aW9uLndlYnNpdGU%3D',\n",
       " 'http://www.legrandcolbert.fr/',\n",
       " 'http://brasseriesalamode.com/',\n",
       " 'https://www.lempirebrasserie.com/',\n",
       " 'http://www.commeunbouillon.com/',\n",
       " 'https://www.lemesturet.com/?utm_source=gmb',\n",
       " 'http://www.brasserielespetitscarreaux.com/',\n",
       " 'https://lentente.paris/',\n",
       " 'https://lecapitolecafe.wixsite.com/info',\n",
       " 'https://www.privateaser.com/lieu/40536-le-sentier',\n",
       " 'https://www.lefiefbrasserie.fr/',\n",
       " 'https://www.restaurantclementine.com/',\n",
       " 'http://www.brasseriemadeleine.fr/',\n",
       " 'https://menuonline.fr/letambour',\n",
       " 'https://www.publichouseparis.fr/',\n",
       " 'https://gallopin.com/',\n",
       " 'https://www.bistrotgisele.com/',\n",
       " 'https://www.privateaser.com/lieu/2597-les-pieds-nickeles-bar',\n",
       " 'http://www.bistrotducroissant.fr/',\n",
       " 'http://lesancerre3.com/',\n",
       " 'https://royalturenne.fr/',\n",
       " 'http://www.brasserie-ladresse.fr/',\n",
       " 'https://leparisiensaintmartin.fr/',\n",
       " 'https://ambre43.wixsite.com/my-site-2',\n",
       " 'https://www.leprogresmarais.fr/',\n",
       " 'https://www.brasseriebalou.fr/',\n",
       " 'https://www.privateaser.com/lieu/72-cafe-melia-ex-le-trente-neuf-paris',\n",
       " 'https://www.privateaser.com/lieu/11978-cafe-leonard',\n",
       " 'http://www.lejouyparis.fr/',\n",
       " 'https://www.sacrefrenchy.com/',\n",
       " 'http://brasseriesalamode.com/',\n",
       " 'https://www.parcelles-paris.fr/',\n",
       " 'http://www.lemazenay.com/',\n",
       " 'https://wiicmenu-qrcode.com/app/offre.php?resto=870',\n",
       " 'https://hotelgeorgette.com/fr/page/restaurant-paris-3eme-arrondissement.21036.html',\n",
       " 'https://www.bofingerparis.com/?utm_source=Google&utm_medium=GMB&utm_campaign=BOF&y_source=1_MTE2NjUxODEtNzE1LWxvY2F0aW9uLndlYnNpdGU%3D',\n",
       " 'https://www.instagram.com/leju_restaurant/',\n",
       " 'http://www.grandebrasserie.fr/',\n",
       " 'https://wiicmenu-qrcode.com/app/offre.php?resto=1440',\n",
       " 'http://aubourguignondumarais.fr/?utm_source=gmb',\n",
       " 'https://www.brasserielesdeuxpalais.fr/',\n",
       " 'https://www.lalsacien.com/restaurant-alsacien-paris/',\n",
       " 'https://lesfous.paris/',\n",
       " 'https://parisbeaubourg.fr/',\n",
       " 'http://www.lesaintregis-paris.com/',\n",
       " 'http://chezmademoiselleparis.fr/fr',\n",
       " 'https://beef.fr/',\n",
       " 'http://www.restaurantletresor.com/',\n",
       " 'https://www.letrumilou.fr/',\n",
       " 'https://www.lerempartbastille.fr/',\n",
       " 'https://www.privateaser.com/lieu/52305-terrasse-sainte-catherine',\n",
       " 'https://restaurant.digityser.com/83',\n",
       " 'https://lepetitmarcelparis.fr/',\n",
       " 'http://www.grandcoeur.paris/',\n",
       " 'http://www.lesully.com/',\n",
       " 'https://bistrot-la-grange.fr/',\n",
       " 'http://www.bistrodeslettres.com/',\n",
       " 'http://www.brasseriebalzar.com/?utm_source=Google&utm_medium=GMB&utm_campaign=brasserie002',\n",
       " 'https://www.cafelequartiergeneral.com/',\n",
       " 'https://www.lebistroduperigord.fr/',\n",
       " 'https://www.privateaser.com/lieu/47662-brasserie-celina',\n",
       " 'https://www.au-moulinavent.com/',\n",
       " 'https://www.leduods.fr/',\n",
       " 'https://www.instagram.com/brasserie.loree.du.parc/',\n",
       " 'https://www.restaurantlapetiteperigourdine.com/',\n",
       " 'https://www.wiictechnology.com/WiiC_clouds/offre.php?resto=529',\n",
       " 'https://lapetite.mimohca.com/',\n",
       " 'https://levieuxbistrot-paris.fr/',\n",
       " 'https://www.caferestaurantjules.fr/',\n",
       " 'http://www.auboncoin-bistrot.com/',\n",
       " 'https://monklatavernedecluny.com/',\n",
       " 'https://www.instagram.com/lesbaux_paris/',\n",
       " 'http://lanouvellegarde.com/',\n",
       " 'http://www.vagenende.com/',\n",
       " 'http://www.leparisparis.fr/',\n",
       " 'https://www.hotellutetia.com/fr/eat-drink/brasserie/',\n",
       " 'https://www.brasserieoneil.com/',\n",
       " 'http://brasserie-des-arts.com/',\n",
       " 'http://www.lechoupinet.com/',\n",
       " 'https://brasserielenesle.fr/',\n",
       " 'https://www.brasserielipp.fr/?utm_source=Google&utm_medium=GMB&utm_campaign=LI&y_source=1_MTE2NjUxNzEtNzE1LWxvY2F0aW9uLndlYnNpdGU%3D',\n",
       " 'http://www.chezfernand-guisarde.com/',\n",
       " 'https://www.ladivadespres.com/?utm_source=Google-Map&utm_medium=Fiche',\n",
       " 'https://www.instagram.com/camilarestaurantparis/?hl=fr',\n",
       " 'https://www.facebook.com/pages/Bistrot-Des-Augustins/106726426061804',\n",
       " 'http://cote-saint-germain-restaurant-paris.eatbu.com/',\n",
       " 'https://www.privateaser.com/lieu/40409-les-insouciants',\n",
       " 'http://lehibou-paris.com/',\n",
       " 'http://auvieuxcolombier.fr/',\n",
       " 'http://www.huguette-bistro.com/',\n",
       " 'https://www.mooseparis.com/',\n",
       " 'https://www.laterrassedu7.com/',\n",
       " 'https://www.fontaine-de-mars.com/',\n",
       " 'https://au-canon-des-invalides.fr/',\n",
       " 'http://lesantiquaires.net/',\n",
       " 'https://diaro.eatbu.com/',\n",
       " 'https://www.brasserie-bourbon.fr/',\n",
       " 'http://www.bistrostdominique.com/',\n",
       " 'https://lecampanella.com/',\n",
       " 'https://www.cafedesministeres.fr/',\n",
       " 'http://www.bosquetparis.com/',\n",
       " 'https://lescocottes.paris/',\n",
       " 'https://www.brasserietoureiffel.com/',\n",
       " 'https://carmine-cafe.fr/',\n",
       " 'http://lecocorico.paris/',\n",
       " 'https://www.fugafamily.com/restaurants/riviera-fuga',\n",
       " 'https://www.instagram.com/ledropcafe/',\n",
       " 'https://bistrotdesfables.fr/',\n",
       " 'https://cafeconcorde.fr/',\n",
       " 'https://www.restaurantalsace.com/?utm_source=Google&utm_medium=GMB&utm_campaign=ALS&y_source=1_MTE2NjUxNzAtNzE1LWxvY2F0aW9uLndlYnNpdGU%3D',\n",
       " 'https://www.brasseriepastis.fr/',\n",
       " 'http://lelyseesainthonore.com/',\n",
       " 'https://www.brasserielalorraine.com//?utm_source=Google&utm_medium=GMB&utm_campaign=LOR&y_source=1_MTE2NjUxNzItNzE1LWxvY2F0aW9uLndlYnNpdGU=',\n",
       " 'http://restaurant-le-drugstore.com/',\n",
       " 'https://www.brasserie-des-champs.com/',\n",
       " 'https://www.hotelsbarriere.com/collection-fouquet-s/paris/restaurants-et-bars/brasserie-fouquet-s-paris',\n",
       " 'https://www.legriffonnier.com/',\n",
       " 'http://lazare-paris.fr/',\n",
       " 'http://bistromarbeuf.fr/',\n",
       " 'https://www.brasseriedeleurope.fr/',\n",
       " 'http://www.legeorgevcafe.fr/',\n",
       " 'https://restaurant-lecafedeparis.com/',\n",
       " 'https://lepresident.paris/',\n",
       " 'https://www.lemessrestaurant.com/',\n",
       " 'https://beauvau-saint-honore.eatbu.com/?lang=fr',\n",
       " 'http://triadou-haussmann.fr/fr',\n",
       " 'https://www.cafebeaucourfolie.fr/',\n",
       " 'https://www.legrandcafe.com//?utm_source=Google&utm_medium=GMB&utm_campaign=GCC&y_source=1_MTE2NjUxODUtNzE1LWxvY2F0aW9uLndlYnNpdGU%3D',\n",
       " 'https://www.privateaser.com/lieu/52238-le-royal',\n",
       " 'https://www.privateaser.com/lieu/39750-au-bercail',\n",
       " 'http://www.restaurant-aupetitriche.com/',\n",
       " 'https://www.lesfilsamaman.com/restaurants/paris-grands-boulevards/?utm_source=google&utm_medium=organic&utm_campaign=mybusiness-website',\n",
       " 'https://lapetitecharlotterestaurant.fr/',\n",
       " 'http://leroyaltrinite.fr/',\n",
       " 'https://r.yonev.com/store/60',\n",
       " 'http://www.lesbacchantes.fr/',\n",
       " 'https://leptitpianobar.fr/',\n",
       " 'https://www.restaurantlescanailles.fr/en-salle/',\n",
       " 'https://www.reservateur.fr/etablissement/599/Bistrot-du-9%C3%A8me',\n",
       " 'http://lepetitcadet-paris.fr/fr',\n",
       " 'http://www.bistrot-rougemont.fr/',\n",
       " 'https://www.privateaser.com/lieu/6411-le-royal-bergere',\n",
       " 'https://bourgogne-sud-paris.fr/',\n",
       " 'https://www.lapantruchoise.com/lesavarin',\n",
       " 'https://poni-bistro.eatbu.com/?lang=fr#reservation',\n",
       " 'https://nouvellegardegroupe.fr/',\n",
       " 'http://www.floderer-paris.com/',\n",
       " 'https://www.louisette-paris.com/',\n",
       " 'https://www.terminusnord.com//?utm_source=Google&utm_medium=GMB&utm_campaign=TN&y_source=1_MTE2NjUxODItNzE1LWxvY2F0aW9uLndlYnNpdGU%3D',\n",
       " 'https://www.bouillon-chartier.com/',\n",
       " 'http://www.lariviera.paris/',\n",
       " 'http://www.lesrupins.fr/',\n",
       " 'https://www.bouillon-julien.com/',\n",
       " 'https://www.wiictechnology.com/WiiC_clouds/offre.php?resto=243',\n",
       " 'http://www.lavilledeprovins.com/',\n",
       " 'http://www.lamaisonbleue.paris/',\n",
       " 'https://www.hoteldunordparis.com/',\n",
       " 'https://www.brasserie-valma.fr/',\n",
       " 'http://lerobinetdor.com/',\n",
       " 'https://www.theplaceto.paris/',\n",
       " 'https://wiicmenu-qrcode.com/app/restaurantWebSite.html?resto=1275',\n",
       " 'https://www.brasserieaucomptoir.fr/',\n",
       " 'https://bloomhouse-hotel.com/restaurant/',\n",
       " 'https://nouvellegardegroupe.com/',\n",
       " 'https://brasseriesalamode.com/',\n",
       " 'http://www.lescuivresparis.com/',\n",
       " 'https://www.privateaser.com/lieu/49290-le-royal-onze',\n",
       " 'https://www.larobedelagirafe.com/',\n",
       " 'http://www.bistrotdupeintre.com/',\n",
       " 'http://www.lecafecharbon.fr/',\n",
       " 'http://www.grandcafebataclan.com/',\n",
       " 'https://bistrotpaulbert.fr/',\n",
       " 'https://falstaffcafe.fr/',\n",
       " 'https://instagram.com/bistro_k_75011?igshid=YTQwZjQ0NmI0OA==',\n",
       " 'https://www.wiictechnology.com/WiiC_clouds/offre.php?resto=407',\n",
       " 'http://www.alabonnebiere.com/',\n",
       " 'https://lapoulettedegrain.fr/fr',\n",
       " 'http://www.lafinemousse.fr/',\n",
       " 'http://lebecsale.eatbu.com/',\n",
       " 'https://www.aumetro-oberkampf.fr/',\n",
       " 'https://cafelapetiteplace.fr/',\n",
       " 'http://www.l-europeen.com/',\n",
       " 'http://www.auboisdoree.fr/',\n",
       " 'http://www.lebauchoir.com/',\n",
       " 'http://www.groupechouette.com/',\n",
       " 'http://www.restaurant-larrosoir.com/',\n",
       " 'https://comalamaisonparis.com/',\n",
       " 'https://www.facebook.com/LaPromenadeParis/',\n",
       " 'http://menuonline.fr/chezmabellemere',\n",
       " 'https://brasserie-la-tour-restaurant-paris.eatbu.com/',\n",
       " 'https://www.brasserie-ledalou.fr/',\n",
       " 'https://www.lerepaire-restaurant.fr/',\n",
       " 'https://www.privateaser.com/lieu/48970-Cafe-millesimes',\n",
       " 'https://www.facebook.com/lacantinededaumesnil/',\n",
       " 'https://www.facebook.com/Le-Chevaleret-2226344361026883/',\n",
       " 'http://cheztrassoudaine.com/',\n",
       " 'http://www.chezlilietmarcel.com/',\n",
       " 'http://les-affranchis.paris/',\n",
       " 'http://brasserie-lequai.fr/',\n",
       " 'http://www.lagedorparis.com/',\n",
       " 'https://www.cafedudule-paris.com/',\n",
       " 'https://www.privateaser.com/lieu/39408-le-val-royal',\n",
       " 'https://www.cafejules-paris.com/',\n",
       " 'https://wiicmenu-qrcode.com/app/restaurantWebSite.php?resto=914',\n",
       " 'https://leverbalon.fr/',\n",
       " 'https://wiictechnology.com/WiiC_clouds/offre.php?resto=546',\n",
       " 'http://www.ledebonnaire.fr/',\n",
       " 'https://restaurant-les-frangins.fr/',\n",
       " 'http://www.laudiernes.fr/',\n",
       " 'http://le-limousin-brasserie.fr/',\n",
       " 'https://www.maisonperet.com/fr/?utm_source=google&utm_medium=mybusiness',\n",
       " 'http://www.felicie.info/',\n",
       " 'http://au-p-tit-zinc.lany.io/',\n",
       " 'https://www.privateaser.com/lieu/50254-brasserie-du-chateau',\n",
       " 'http://www.partagebrasserie.fr/',\n",
       " 'https://www.lacoupole-paris.com//?utm_source=Google&utm_medium=GMB&utm_campaign=COU&y_source=1_MTE2NjUxODQtNzE1LWxvY2F0aW9uLndlYnNpdGU=',\n",
       " 'https://www.lepetitsommelierdeparis.com/',\n",
       " 'http://www.lejeroboam.fr/',\n",
       " 'https://lessentiel-paris-14.fr/fr',\n",
       " 'https://bistrot-basilic-paris-14.fr/fr',\n",
       " 'https://www.comptoirdalesia.fr/?utm_medium=referral&utm_source=gmb&utm_campaign=lnk-gmb',\n",
       " 'https://www.facebook.com/Brasserie-Le-Square-533091136868706/',\n",
       " 'https://www.le14juillet.fr/',\n",
       " 'http://www.petits-parisiens.fr/',\n",
       " 'http://www.contreallee.net/',\n",
       " 'http://www.lepetitbroc.fr/',\n",
       " 'http://www.harpers-restaurant.com/',\n",
       " 'http://www.lecafeducommerce.com/',\n",
       " 'https://le-felix-faure-paris-15.fr/fr',\n",
       " 'https://www.comptoirprincipal.com/',\n",
       " 'https://www.instagram.com/lesuffrenparis',\n",
       " 'http://largument.fr/',\n",
       " 'https://www.restaurantlagauloiseparis.fr/,',\n",
       " 'http://www.lapollinaire-restaurant.fr/',\n",
       " 'https://lepavillon-paris.fr/fr',\n",
       " 'https://menuonline.fr/brasserielola/carte-restaurant',\n",
       " 'http://auderniermetro.fr/fr',\n",
       " 'https://www.framebrasserie.fr/',\n",
       " 'https://www.relais15.com/',\n",
       " 'http://bistromonreve.fr/fr',\n",
       " 'https://brasserielaura.eatbu.com/',\n",
       " 'http://convention-cafe.fr/',\n",
       " 'https://lemurmure.fr/',\n",
       " 'http://www.lintrigueparis.fr/',\n",
       " 'https://reservateur.fr/etablissement/705/Le-Lut%C3%A8ce',\n",
       " 'https://www.auteuil-brasserie.com/?utm_source=Google&utm_medium=GMB&utm_campaign=AUT&y_source=1_MTE2NjUxOTEtNzE1LWxvY2F0aW9uLndlYnNpdGU%3D',\n",
       " 'https://www.facebook.com/Le-Bistro-de-Longchamp-%C3%80-LHeure-De-Lisbonne--259033900465',\n",
       " 'http://www.rotondemuette.paris/',\n",
       " 'https://lepassy.paris/',\n",
       " 'http://www.restaurant-lebois.fr/',\n",
       " 'http://lecardinalparis.com/',\n",
       " 'https://menuonline.fr/lepoincare',\n",
       " 'http://www.lestella.fr/',\n",
       " 'https://brasserievictorhugo-paris.com/',\n",
       " 'https://www.petitvictorhugo.fr/?y_source=1_MjY4MjIxMjEtNzE1LWxvY2F0aW9uLndlYnNpdGU%3D',\n",
       " 'https://lecafemarceau.fr/?utm_source=Google-Map&utm_medium=Fiche',\n",
       " 'https://www.leflandrin.com/',\n",
       " 'https://www.lesfontainesparis.fr/',\n",
       " 'http://www.restaurant-lemurat.com/',\n",
       " 'https://laterrasse-paris-16.fr/fr',\n",
       " 'https://www.comptoirdu16.fr/',\n",
       " 'https://www.paris16-restaurant.com/',\n",
       " 'http://www.auberge-dab.com/',\n",
       " 'https://menuonline.fr/lamaisonparis17',\n",
       " 'https://www.lediplomateparis17.com/?utm_source=google&utm_medium=wix_google_business_profile&utm_campaign=8677343980817302769',\n",
       " 'https://wiicmenu-qrcode.com/app/restaurantWebSite.html?resto=1265',\n",
       " 'http://www.nai-brasserie.fr/',\n",
       " 'https://www.break-paris.fr/',\n",
       " 'http://www.restaurant-paris17.fr/',\n",
       " 'https://lor.paris/p/le-paris-rome-paris/accueil',\n",
       " 'http://www.congres-maillot.com/',\n",
       " 'https://leponcelet.fr/',\n",
       " 'http://www.auxdescales17.fr/',\n",
       " 'https://www.le-st-cyr.fr/',\n",
       " 'http://lesdemoiselles.fr/',\n",
       " 'http://www.ledomevilliers-paris.com/',\n",
       " 'https://cafelateral.com/fr',\n",
       " 'http://angelus-paris.fr/fr',\n",
       " 'https://lendroit-batignolles.fr/',\n",
       " 'https://www.restaurantsparisiens.com/le-ballon-des-ternes/',\n",
       " 'http://www.momrestaurant.fr/',\n",
       " 'http://brasseriebarbes.com/',\n",
       " 'https://bouillonlesite.com/bouillon-pigalle',\n",
       " 'http://module.lafourchette.com/fr_FR/module/711293-85968',\n",
       " 'http://www.atelier-ramey.com/',\n",
       " 'https://aurelais.fr/',\n",
       " 'https://www.lolivierparis.fr/',\n",
       " 'https://www.julesjo.com/',\n",
       " 'http://www.cafelaposte.fr/',\n",
       " 'https://nouvellegardegroupe.fr/',\n",
       " 'https://labohememontmartre.fr/',\n",
       " 'http://www.labohememontmartre.fr/',\n",
       " 'http://lesancerreparis.com/',\n",
       " 'http://www.bistrot-chez-soi.fr/',\n",
       " 'http://www.lesanglierbleu.com/',\n",
       " 'http://auxdescales18.fr/',\n",
       " 'https://www.instagram.com/lesbutteschaumont/',\n",
       " 'http://napoleon-3.com/privatisation/',\n",
       " 'https://laforge-paris.fr/fr',\n",
       " 'http://cote-canal-paris.fr/',\n",
       " 'https://les-bancs-publics-restaurant-paris.eatbu.com/',\n",
       " 'https://lesfrereslaumiere.fr/',\n",
       " 'https://brasseriedeletre.paris/',\n",
       " 'http://www.facebook.com/lepavillondulacbutteschaumont?utm_source=gmb',\n",
       " 'http://www.pavillondescanaux.com/',\n",
       " 'https://brasseriefenix.metro.rest/',\n",
       " 'https://le-bastringue.eatbu.com/?lang=fr',\n",
       " 'https://wiicmenu-qrcode.com/app/restaurantWebSite.html?resto=190',\n",
       " 'https://www.aux-arts-et-aux-sciences.com/',\n",
       " 'https://www.privateaser.com/lieu/47671-le-chaumontois',\n",
       " 'http://chantefable.fr/',\n",
       " 'https://linktr.ee/lerefugedemenilmontant',\n",
       " 'https://www.brasseriedesregards.fr/',\n",
       " 'https://lelagny.fr/fr',\n",
       " 'https://www.privateaser.com/lieu/48909-brasserie-chacha',\n",
       " 'https://instagram.com/bistrotpere',\n",
       " 'http://www.cafelepapillon.com/',\n",
       " 'https://www.restaurantlacolline.fr/',\n",
       " 'https://bistrotdumetro.fr/fr',\n",
       " 'https://www.mondesbohemes.com/',\n",
       " 'http://leclairon.free.fr/',\n",
       " 'https://www.auxours.com/',\n",
       " 'https://le-zephyr.fr/fr',\n",
       " 'https://www.instagram.com/bistroploc?igsh=MW13anJ5ZWxzM2g3bw==',\n",
       " 'http://le-mistral.lafourchette.rest/',\n",
       " 'https://www.le-vieux-belleville.com/',\n",
       " 'http://www.lentractebistrot.fr/']"
      ]
     },
     "execution_count": 15,
     "metadata": {},
     "output_type": "execute_result"
    }
   ],
   "source": [
    "df['website'].dropna().to_list()"
   ]
  },
  {
   "cell_type": "code",
   "execution_count": 17,
   "metadata": {},
   "outputs": [
    {
     "name": "stdout",
     "output_type": "stream",
     "text": [
      "(9, 9)\n"
     ]
    },
    {
     "data": {
      "text/html": [
       "<div>\n",
       "<style scoped>\n",
       "    .dataframe tbody tr th:only-of-type {\n",
       "        vertical-align: middle;\n",
       "    }\n",
       "\n",
       "    .dataframe tbody tr th {\n",
       "        vertical-align: top;\n",
       "    }\n",
       "\n",
       "    .dataframe thead th {\n",
       "        text-align: right;\n",
       "    }\n",
       "</style>\n",
       "<table border=\"1\" class=\"dataframe\">\n",
       "  <thead>\n",
       "    <tr style=\"text-align: right;\">\n",
       "      <th></th>\n",
       "      <th>name</th>\n",
       "      <th>address</th>\n",
       "      <th>place_id</th>\n",
       "      <th>rating</th>\n",
       "      <th>reviews</th>\n",
       "      <th>price_level</th>\n",
       "      <th>website</th>\n",
       "      <th>arrondissement</th>\n",
       "      <th>street_name</th>\n",
       "    </tr>\n",
       "  </thead>\n",
       "  <tbody>\n",
       "    <tr>\n",
       "      <th>109</th>\n",
       "      <td>chez jeannette paris</td>\n",
       "      <td>263 rue saint-jacques, 75005 paris, france</td>\n",
       "      <td>ChIJ9yWe1sVx5kcRJgWF0JBR0VU</td>\n",
       "      <td>4.8</td>\n",
       "      <td>49</td>\n",
       "      <td>NaN</td>\n",
       "      <td>NaN</td>\n",
       "      <td>5</td>\n",
       "      <td>rue saint-jacques</td>\n",
       "    </tr>\n",
       "    <tr>\n",
       "      <th>176</th>\n",
       "      <td>le mess</td>\n",
       "      <td>16 rue des saussaies, 75008 paris, france</td>\n",
       "      <td>ChIJGwABUV5v5kcR6sukDbEnzgo</td>\n",
       "      <td>4.7</td>\n",
       "      <td>92</td>\n",
       "      <td>NaN</td>\n",
       "      <td>https://www.lemessrestaurant.com/</td>\n",
       "      <td>8</td>\n",
       "      <td>rue des saussaies</td>\n",
       "    </tr>\n",
       "    <tr>\n",
       "      <th>218</th>\n",
       "      <td>bloom garden restaurant &amp; bar à cocktails</td>\n",
       "      <td>23 r. du château landon, 75010 paris, france</td>\n",
       "      <td>ChIJA1n6SqJv5kcRjEMCcj0PbI4</td>\n",
       "      <td>4.8</td>\n",
       "      <td>83</td>\n",
       "      <td>NaN</td>\n",
       "      <td>https://bloomhouse-hotel.com/restaurant/</td>\n",
       "      <td>10</td>\n",
       "      <td>r. du château landon</td>\n",
       "    </tr>\n",
       "  </tbody>\n",
       "</table>\n",
       "</div>"
      ],
      "text/plain": [
       "                                          name  \\\n",
       "109                       chez jeannette paris   \n",
       "176                                    le mess   \n",
       "218  bloom garden restaurant & bar à cocktails   \n",
       "\n",
       "                                          address  \\\n",
       "109    263 rue saint-jacques, 75005 paris, france   \n",
       "176     16 rue des saussaies, 75008 paris, france   \n",
       "218  23 r. du château landon, 75010 paris, france   \n",
       "\n",
       "                        place_id  rating  reviews  price_level  \\\n",
       "109  ChIJ9yWe1sVx5kcRJgWF0JBR0VU     4.8       49          NaN   \n",
       "176  ChIJGwABUV5v5kcR6sukDbEnzgo     4.7       92          NaN   \n",
       "218  ChIJA1n6SqJv5kcRjEMCcj0PbI4     4.8       83          NaN   \n",
       "\n",
       "                                      website  arrondissement  \\\n",
       "109                                       NaN               5   \n",
       "176         https://www.lemessrestaurant.com/               8   \n",
       "218  https://bloomhouse-hotel.com/restaurant/              10   \n",
       "\n",
       "              street_name  \n",
       "109     rue saint-jacques  \n",
       "176     rue des saussaies  \n",
       "218  r. du château landon  "
      ]
     },
     "execution_count": 17,
     "metadata": {},
     "output_type": "execute_result"
    }
   ],
   "source": [
    "low_reviews = df[df['reviews']<100]\n",
    "print(low_reviews.shape)\n",
    "low_reviews.head(3)"
   ]
  },
  {
   "cell_type": "code",
   "execution_count": 29,
   "metadata": {},
   "outputs": [
    {
     "name": "stdout",
     "output_type": "stream",
     "text": [
      "(80, 9)\n"
     ]
    },
    {
     "data": {
      "text/html": [
       "<div>\n",
       "<style scoped>\n",
       "    .dataframe tbody tr th:only-of-type {\n",
       "        vertical-align: middle;\n",
       "    }\n",
       "\n",
       "    .dataframe tbody tr th {\n",
       "        vertical-align: top;\n",
       "    }\n",
       "\n",
       "    .dataframe thead th {\n",
       "        text-align: right;\n",
       "    }\n",
       "</style>\n",
       "<table border=\"1\" class=\"dataframe\">\n",
       "  <thead>\n",
       "    <tr style=\"text-align: right;\">\n",
       "      <th></th>\n",
       "      <th>name</th>\n",
       "      <th>address</th>\n",
       "      <th>place_id</th>\n",
       "      <th>rating</th>\n",
       "      <th>reviews</th>\n",
       "      <th>price_level</th>\n",
       "      <th>website</th>\n",
       "      <th>arrondissement</th>\n",
       "      <th>street_name</th>\n",
       "    </tr>\n",
       "  </thead>\n",
       "  <tbody>\n",
       "    <tr>\n",
       "      <th>4</th>\n",
       "      <td>brasserie l'émil</td>\n",
       "      <td>55 rue saint-roch, 75001 paris, france</td>\n",
       "      <td>ChIJ_xOkpDpv5kcRk_YSe4UrbkI</td>\n",
       "      <td>4.3</td>\n",
       "      <td>142</td>\n",
       "      <td>NaN</td>\n",
       "      <td>https://www.chateauvoltaire.com/restaurant</td>\n",
       "      <td>1</td>\n",
       "      <td>rue saint-roch</td>\n",
       "    </tr>\n",
       "    <tr>\n",
       "      <th>7</th>\n",
       "      <td>french beer brasserie</td>\n",
       "      <td>le carroussel du louvre, 99 rue de rivoli, 750...</td>\n",
       "      <td>ChIJRcLNn2pv5kcRN2u1lYNevik</td>\n",
       "      <td>4.6</td>\n",
       "      <td>292</td>\n",
       "      <td>NaN</td>\n",
       "      <td>https://foodcourtrivoli.fr/fr/restaurant-frenc...</td>\n",
       "      <td>1</td>\n",
       "      <td>carroussel du louvre</td>\n",
       "    </tr>\n",
       "    <tr>\n",
       "      <th>9</th>\n",
       "      <td>café joséphine</td>\n",
       "      <td>3 pl. des deux ecus, 75001 paris, france</td>\n",
       "      <td>ChIJdd2yjVhv5kcR40Ab9Db4mBI</td>\n",
       "      <td>4.3</td>\n",
       "      <td>880</td>\n",
       "      <td>NaN</td>\n",
       "      <td>http://www.cafe-josephineparis.fr/</td>\n",
       "      <td>1</td>\n",
       "      <td>pl. des deux ecus</td>\n",
       "    </tr>\n",
       "  </tbody>\n",
       "</table>\n",
       "</div>"
      ],
      "text/plain": [
       "                    name                                            address  \\\n",
       "4       brasserie l'émil             55 rue saint-roch, 75001 paris, france   \n",
       "7  french beer brasserie  le carroussel du louvre, 99 rue de rivoli, 750...   \n",
       "9         café joséphine           3 pl. des deux ecus, 75001 paris, france   \n",
       "\n",
       "                      place_id  rating  reviews  price_level  \\\n",
       "4  ChIJ_xOkpDpv5kcRk_YSe4UrbkI     4.3      142          NaN   \n",
       "7  ChIJRcLNn2pv5kcRN2u1lYNevik     4.6      292          NaN   \n",
       "9  ChIJdd2yjVhv5kcR40Ab9Db4mBI     4.3      880          NaN   \n",
       "\n",
       "                                             website  arrondissement  \\\n",
       "4         https://www.chateauvoltaire.com/restaurant               1   \n",
       "7  https://foodcourtrivoli.fr/fr/restaurant-frenc...               1   \n",
       "9                 http://www.cafe-josephineparis.fr/               1   \n",
       "\n",
       "            street_name  \n",
       "4        rue saint-roch  \n",
       "7  carroussel du louvre  \n",
       "9     pl. des deux ecus  "
      ]
     },
     "execution_count": 29,
     "metadata": {},
     "output_type": "execute_result"
    }
   ],
   "source": [
    "no_price_level = df[df['price_level'].isna()]\n",
    "print(no_price_level.shape)\n",
    "no_price_level.head(3)"
   ]
  },
  {
   "cell_type": "code",
   "execution_count": 30,
   "metadata": {},
   "outputs": [
    {
     "data": {
      "text/plain": [
       "np.float64(4.361190476190477)"
      ]
     },
     "execution_count": 30,
     "metadata": {},
     "output_type": "execute_result"
    }
   ],
   "source": [
    "df['rating'].dropna().mean()"
   ]
  },
  {
   "cell_type": "code",
   "execution_count": 45,
   "metadata": {},
   "outputs": [
    {
     "data": {
      "text/plain": [
       "(348, 9)"
      ]
     },
     "execution_count": 45,
     "metadata": {},
     "output_type": "execute_result"
    }
   ],
   "source": [
    "new_df = df[~(df['website'].isna())]\n",
    "new_df = new_df[~new_df['website'].str.contains(\"private\")]\n",
    "new_df.shape"
   ]
  },
  {
   "cell_type": "code",
   "execution_count": 58,
   "metadata": {},
   "outputs": [],
   "source": [
    "new_df.to_csv(\"../data/interim/brasseries_w_link.csv\", index=False)"
   ]
  }
 ],
 "metadata": {
  "kernelspec": {
   "display_name": "venv",
   "language": "python",
   "name": "python3"
  },
  "language_info": {
   "codemirror_mode": {
    "name": "ipython",
    "version": 3
   },
   "file_extension": ".py",
   "mimetype": "text/x-python",
   "name": "python",
   "nbconvert_exporter": "python",
   "pygments_lexer": "ipython3",
   "version": "3.11.2"
  }
 },
 "nbformat": 4,
 "nbformat_minor": 2
}
